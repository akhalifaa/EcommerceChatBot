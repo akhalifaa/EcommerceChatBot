{
  "nbformat": 4,
  "nbformat_minor": 0,
  "metadata": {
    "colab": {
      "name": "Chatbot.ipynb",
      "provenance": [],
      "collapsed_sections": []
    },
    "kernelspec": {
      "name": "python3",
      "display_name": "Python 3"
    },
    "language_info": {
      "name": "python"
    }
  },
  "cells": [
    {
      "cell_type": "code",
      "execution_count": 277,
      "metadata": {
        "colab": {
          "base_uri": "https://localhost:8080/"
        },
        "id": "sJEta2PAfWPw",
        "outputId": "0912ec42-bee6-4d22-ebca-cc831bc1b0e5"
      },
      "outputs": [
        {
          "output_type": "stream",
          "name": "stdout",
          "text": [
            "[nltk_data] Downloading package punkt to /root/nltk_data...\n",
            "[nltk_data]   Package punkt is already up-to-date!\n"
          ]
        }
      ],
      "source": [
        "import numpy as np\n",
        "import nltk\n",
        "from nltk.stem.porter import PorterStemmer\n",
        "nltk.download('punkt')\n",
        "import torch\n",
        "import torch.nn as nn\n",
        "from torch.utils.data import Dataset, DataLoader\n",
        "import random\n",
        "import matplotlib.pyplot as plt\n",
        "from sklearn.model_selection import train_test_split\n",
        "from sklearn.metrics import accuracy_score, f1_score"
      ]
    },
    {
      "cell_type": "markdown",
      "source": [
        "## 1) Create the functions that are in charge of preprocessing strings. NLP tools implemented in functions that will help us prepare training data."
      ],
      "metadata": {
        "id": "NWgm-hRpoe8E"
      }
    },
    {
      "cell_type": "code",
      "source": [
        "#function to tokenize a string sentence\n",
        "def tokenize(sentence):\n",
        "  return nltk.word_tokenize(sentence)"
      ],
      "metadata": {
        "id": "6cvdj6Vhf54_"
      },
      "execution_count": 93,
      "outputs": []
    },
    {
      "cell_type": "code",
      "source": [
        "#function to stem words...lower case then stem\n",
        "stemmer = PorterStemmer()\n",
        "def stem(word):\n",
        "  return stemmer.stem(word.lower())"
      ],
      "metadata": {
        "id": "XSpRFy6mgH-s"
      },
      "execution_count": 94,
      "outputs": []
    },
    {
      "cell_type": "code",
      "source": [
        "# Function takes in the tokenized sentence and all words in a json file, returns an array of 0 (word absent) or 1 (word present) representing the all words array.\n",
        "def bag_of_words(tokenized_sentence, all_words):\n",
        "  tokenized_sentence = [stem(w) for w in tokenized_sentence]\n",
        "  bag = np.zeros(len(all_words),dtype = np.float32)\n",
        "  for index, w in enumerate(all_words): #loop over all words list\n",
        "    if w in tokenized_sentence: #if the word in all words list, is in tokenized sentence list\n",
        "      bag[index] = 1.0 #then turn on a 1 in the relevant position in the all words numpy list called bag.\n",
        "  return bag"
      ],
      "metadata": {
        "id": "96PwmXTcgKj9"
      },
      "execution_count": 95,
      "outputs": []
    },
    {
      "cell_type": "code",
      "source": [
        "#An example of how the functions work\n",
        "sentence_ex = \"Hello how are you?\"\n",
        "\n",
        "token_sentence = tokenize(sentence_ex)\n",
        "print(token_sentence)\n",
        "\n",
        "words_reference = ['hi','hello','I','you','bye','thank','cool']\n",
        "print(words_reference)\n",
        "bag = bag_of_words(token_sentence,words_reference)\n",
        "print(bag)"
      ],
      "metadata": {
        "colab": {
          "base_uri": "https://localhost:8080/"
        },
        "id": "nmpw4A2p58qT",
        "outputId": "c26f5498-aa1b-4268-c293-d651d142ec12"
      },
      "execution_count": 96,
      "outputs": [
        {
          "output_type": "stream",
          "name": "stdout",
          "text": [
            "['Hello', 'how', 'are', 'you', '?']\n",
            "['hi', 'hello', 'I', 'you', 'bye', 'thank', 'cool']\n",
            "[0. 1. 0. 1. 0. 0. 0.]\n"
          ]
        }
      ]
    },
    {
      "cell_type": "code",
      "source": [
        "#An example of how stemming works\n",
        "words = ['organize', 'organizes','organizing']\n",
        "stemmed_words = [stem(w) for w in words]\n",
        "print(stemmed_words)"
      ],
      "metadata": {
        "colab": {
          "base_uri": "https://localhost:8080/"
        },
        "id": "PWrd0aVbhLLo",
        "outputId": "463b7ddf-8027-4d3d-9672-c1d90eaee3e6"
      },
      "execution_count": 97,
      "outputs": [
        {
          "output_type": "stream",
          "name": "stdout",
          "text": [
            "['organ', 'organ', 'organ']\n"
          ]
        }
      ]
    },
    {
      "cell_type": "markdown",
      "source": [
        "## 2) Read in json file of intents that serves as a dictionary of words to create training data. Later, we will be using this file for many reasons: creating all_words array, querying it to match a user input to respond to the user, and more!\n",
        "\n"
      ],
      "metadata": {
        "id": "lpQO5sRVpKr0"
      }
    },
    {
      "cell_type": "code",
      "source": [
        "import json"
      ],
      "metadata": {
        "id": "YujapnU1nA6N"
      },
      "execution_count": 98,
      "outputs": []
    },
    {
      "cell_type": "code",
      "source": [
        "#open the json file in reading mode and name it intents\n",
        "with open('intents.json','r') as file:\n",
        "  intents = json.load(file)"
      ],
      "metadata": {
        "id": "oo2yTOEGpOvc"
      },
      "execution_count": 99,
      "outputs": []
    },
    {
      "cell_type": "code",
      "source": [
        "#create empty lists that we will be appending to in order to prepare our training data\n",
        "all_words = []\n",
        "all_tags = []\n",
        "words_and_tag = []"
      ],
      "metadata": {
        "id": "Zu4Ntl2JpcAF"
      },
      "execution_count": 100,
      "outputs": []
    },
    {
      "cell_type": "markdown",
      "source": [
        "#### The json intents file: a file containing the dictionary of patterns and responses categorized under different tags. So each tag (greeting) has a pattern (hi, hello,...) and a response (hi there, hello back,...)"
      ],
      "metadata": {
        "id": "dV597xFkr9DZ"
      }
    },
    {
      "cell_type": "markdown",
      "source": [
        "#### This json file: one big dictionary containg ONE main key (\"intents\":) and ONE main corresponding value which is a LIST. This list contains another dictionary which have keys: \"tag\": string value, \"patterns\": list of strings value, and \"responses\": list of strings value."
      ],
      "metadata": {
        "id": "qdRTo3ossVIJ"
      }
    },
    {
      "cell_type": "code",
      "source": [
        "for intent in intents['intents']: #access json dictionary main key intents, gives acces to the one and only LIST that has the other dictionaries!\n",
        "  tag = intent['tag'] #once in the value of main key \"intents\", access the \"tag\" key and append it\n",
        "  all_tags.append(tag)\n",
        "  for pattern in intent['patterns']:  #now that we are inside the first dictionary in the main list, we INNER loop that dictionary\n",
        "    words = tokenize(pattern)\n",
        "    all_words.extend(words) #EXTEND, not append because tokenize takes a string and returns an array/list, if we do append, all_words would be a list of lists\n",
        "    words_and_tag.append((words,tag)) #pair up each tokenized sentence entry with its relevant tag\n",
        "\n",
        "ignore_list = ['?','!','.',',']\n",
        "all_words = [stem(w) for w in all_words if w not in ignore_list] # a good way to loop over a list and perform a function on each entry\n",
        "all_words = sorted(set(all_words))\n",
        "all_tags = sorted(set(all_tags)) "
      ],
      "metadata": {
        "id": "A2FS43h1pvjY"
      },
      "execution_count": 101,
      "outputs": []
    },
    {
      "cell_type": "code",
      "source": [
        "#Lets take a look at words and tag\n",
        "print(words_and_tag)\n",
        "print(all_tags)"
      ],
      "metadata": {
        "colab": {
          "base_uri": "https://localhost:8080/"
        },
        "id": "JiperWVnvVxo",
        "outputId": "21bcd2f0-33f6-4232-f111-ff561ba5f477"
      },
      "execution_count": 102,
      "outputs": [
        {
          "output_type": "stream",
          "name": "stdout",
          "text": [
            "[(['Hey'], 'greeting'), (['Hi'], 'greeting'), (['How', 'are', 'you'], 'greeting'), (['anyone', 'there', '?'], 'greeting'), (['Hello'], 'greeting'), (['hello', 'there'], 'greeting'), (['Good', 'day'], 'greeting'), (['Bye'], 'goodbye'), (['See', 'you', 'later'], 'goodbye'), (['thank', 'you', ',', 'good', 'bye'], 'goodbye'), (['Goodbye', ',', 'have', 'a', 'good', 'one'], 'goodbye'), (['Thank', 'you'], 'thanks'), (['Thanks'], 'thanks'), (['Thanks', 'for', 'the', 'help'], 'thanks'), (['Thanks', 'a', 'lot', '!'], 'thanks'), (['Which', 'products', 'do', 'you', 'have', '?'], 'products'), (['What', 'kind', 'of', 'products', '?'], 'products'), (['What', 'do', 'you', 'sell', '?'], 'products'), (['what', 'products', 'do', 'you', 'offer'], 'products'), (['Can', 'I', 'pay', 'with', 'Paypal', '?'], 'payments'), (['Do', 'you', 'take', 'credit', 'cards', '?'], 'payments'), (['Do', 'you', 'accept', 'Mastercard', '?'], 'payments'), (['Are', 'you', 'cash', 'only', '?'], 'payments'), (['How', 'can', 'I', 'pay', '?'], 'payments'), (['How', 'long', 'does', 'shipping', 'take', '?'], 'delivery'), (['How', 'long', 'does', 'delivery', 'take', '?'], 'delivery'), (['When', 'do', 'I', 'get', 'my', 'delivery', '?'], 'delivery'), (['How', 'long', 'does', 'it', 'take', 'to', 'deliver', '?'], 'delivery')]\n",
            "['delivery', 'goodbye', 'greeting', 'payments', 'products', 'thanks']\n"
          ]
        }
      ]
    },
    {
      "cell_type": "markdown",
      "source": [
        "#### At this point we have distinct, sorted lists of tokenized and stemmed words and corresponding tags, read in from our json file. Time to loop over the words_and_tag tuple we made earlier and append each tokenized & stemmed sentence after bagging it to get an encoded all_words array as a feature and its relvant tag as a label."
      ],
      "metadata": {
        "id": "gbiq9fCdz-AW"
      }
    },
    {
      "cell_type": "markdown",
      "source": [
        "## 3) Creating our x_traing and y_train sets"
      ],
      "metadata": {
        "id": "7a_kY88Yw3t_"
      }
    },
    {
      "cell_type": "code",
      "source": [
        "#creating our x_train and y_train data\n",
        "X = []\n",
        "Y = []\n",
        "for (pattern_sentence,tag) in words_and_tag:\n",
        "  bag = bag_of_words(pattern_sentence, all_words)\n",
        "  X.append(bag)\n",
        "\n",
        "  label = all_tags.index(tag) #we assign the index numerical value of the label to the relevant x value (bag of words array)\n",
        "  Y.append(label)\n",
        "\n",
        "X_train, X_test, Y_train, Y_test = train_test_split(X, Y, test_size=0.2, random_state=42)\n",
        "x_train = np.array(X_train)\n",
        "y_train = np.array(Y_train)\n",
        "x_test = np.array(X_test)\n",
        "y_test = np.array(Y_test)"
      ],
      "metadata": {
        "id": "HS8qqwpMxO_W"
      },
      "execution_count": 250,
      "outputs": []
    },
    {
      "cell_type": "markdown",
      "source": [
        "### Created a class called ChatDataset that we will use to help us with loading in and training out data"
      ],
      "metadata": {
        "id": "KAIsbFt8AYSp"
      }
    },
    {
      "cell_type": "code",
      "source": [
        "class ChatDataset(Dataset):\n",
        "  def __init__(self):\n",
        "    self.n_samples = len(x_train)\n",
        "    self.x_data = x_train\n",
        "    self.y_data = y_train\n",
        "  \n",
        "  #so we are able to go through data set index\n",
        "  def __getitem__(self,index):\n",
        "    return self.x_data[index], self.y_data[index]\n",
        "  \n",
        "  def __len__(self):\n",
        "    return self.n_samples"
      ],
      "metadata": {
        "id": "7v_k1AfO-O3_"
      },
      "execution_count": 189,
      "outputs": []
    },
    {
      "cell_type": "code",
      "source": [
        "#Hyperparameters\n",
        "batch_size = 8\n",
        "hidden_size = 8\n",
        "input_size = len(x_train[0]) #length of bag of words which is length of all_words which is one iterable in x_train\n",
        "output_size = len(all_tags)\n",
        "learning_rate = 0.001\n",
        "epochs = 500"
      ],
      "metadata": {
        "id": "FIUJwPGi_aWl"
      },
      "execution_count": 190,
      "outputs": []
    },
    {
      "cell_type": "code",
      "source": [
        "#calling our class object that we made and assigning it to variable dataset and\n",
        "dataset = ChatDataset()\n",
        "train_loader = DataLoader(dataset=dataset, batch_size = batch_size, shuffle = True, num_workers=2)"
      ],
      "metadata": {
        "id": "K1zlTPeq_M_M"
      },
      "execution_count": 191,
      "outputs": []
    },
    {
      "cell_type": "markdown",
      "source": [
        "## 4) Create our feed forward neural network model consiting of three linear layers! (Input layer: number of different patterns,a hidden layer, and an output layer: of the number of possible labels. Relu activation between each layer except after the last one!"
      ],
      "metadata": {
        "id": "j2Yfw5tX52rD"
      }
    },
    {
      "cell_type": "code",
      "source": [
        "class NeuralNet(nn.Module):\n",
        "  def __init__(self,input_size,hidden_size,num_classes):\n",
        "    super(NeuralNet,self).__init__()\n",
        "    self.l1 = nn.Linear(input_size,hidden_size)\n",
        "    self.l2 = nn.Linear(hidden_size,hidden_size)\n",
        "    self.l3 = nn.Linear(hidden_size,num_classes)\n",
        "    self.relu = nn.ReLU()\n",
        "\n",
        "  def forward(self,x):\n",
        "    out = self.l1(x)\n",
        "    out = self.relu(out)\n",
        "    out = self.l2(out)\n",
        "    out = self.relu(out)\n",
        "    out = self.l3(out) #dont do classification activation (softmax) here because will be applied crossentropyloss later.\n",
        "    return out"
      ],
      "metadata": {
        "id": "uRxJH9q-A9ik"
      },
      "execution_count": 192,
      "outputs": []
    },
    {
      "cell_type": "code",
      "source": [
        " device = torch.device('cuda' if torch.cuda.is_available() else 'cpu')\n",
        " model = NeuralNet(input_size,hidden_size,output_size).to(device)"
      ],
      "metadata": {
        "id": "alsN2xXaCwzH"
      },
      "execution_count": 193,
      "outputs": []
    },
    {
      "cell_type": "code",
      "source": [
        "#loss and optimizer\n",
        "criterion = nn.CrossEntropyLoss()\n",
        "optimizer = torch.optim.Adam(model.parameters(), lr = learning_rate)"
      ],
      "metadata": {
        "id": "0zqXT1y2Ec_b"
      },
      "execution_count": 194,
      "outputs": []
    },
    {
      "cell_type": "code",
      "source": [
        "loss_list = []\n",
        "for epoch in range(epochs):\n",
        "  for (words, labels) in train_loader:\n",
        "    words = words.to(device)\n",
        "    labels = labels.to(device)\n",
        "\n",
        "    #forward\n",
        "    outputs = model(words)\n",
        "    loss = criterion(outputs, labels)\n",
        "\n",
        "    #backward and optimizer step\n",
        "    optimizer.zero_grad()\n",
        "    loss.backward()\n",
        "    optimizer.step()\n",
        "  \n",
        "  if (epoch + 1) % 10 ==0:\n",
        "    print(f'epoch {epoch+1}/{epochs}, loss = {loss.item():.4f}')\n",
        "    loss_list.append(loss.item())\n",
        "  \n",
        "print(f'final loss, loss = {loss.item():.4f}')"
      ],
      "metadata": {
        "colab": {
          "base_uri": "https://localhost:8080/"
        },
        "id": "pqhWGdh8E2gH",
        "outputId": "a0f32a1b-c5f9-443e-83c2-27920874a55c"
      },
      "execution_count": 264,
      "outputs": [
        {
          "output_type": "stream",
          "name": "stdout",
          "text": [
            "epoch 10/500, loss = 0.0038\n",
            "epoch 20/500, loss = 0.0026\n",
            "epoch 30/500, loss = 0.0026\n",
            "epoch 40/500, loss = 0.0054\n",
            "epoch 50/500, loss = 0.0023\n",
            "epoch 60/500, loss = 0.0034\n",
            "epoch 70/500, loss = 0.0009\n",
            "epoch 80/500, loss = 0.0034\n",
            "epoch 90/500, loss = 0.0014\n",
            "epoch 100/500, loss = 0.0033\n",
            "epoch 110/500, loss = 0.0030\n",
            "epoch 120/500, loss = 0.0032\n",
            "epoch 130/500, loss = 0.0020\n",
            "epoch 140/500, loss = 0.0031\n",
            "epoch 150/500, loss = 0.0025\n",
            "epoch 160/500, loss = 0.0015\n",
            "epoch 170/500, loss = 0.0016\n",
            "epoch 180/500, loss = 0.0018\n",
            "epoch 190/500, loss = 0.0012\n",
            "epoch 200/500, loss = 0.0011\n",
            "epoch 210/500, loss = 0.0015\n",
            "epoch 220/500, loss = 0.0013\n",
            "epoch 230/500, loss = 0.0018\n",
            "epoch 240/500, loss = 0.0019\n",
            "epoch 250/500, loss = 0.0018\n",
            "epoch 260/500, loss = 0.0007\n",
            "epoch 270/500, loss = 0.0015\n",
            "epoch 280/500, loss = 0.0008\n",
            "epoch 290/500, loss = 0.0004\n",
            "epoch 300/500, loss = 0.0009\n",
            "epoch 310/500, loss = 0.0008\n",
            "epoch 320/500, loss = 0.0007\n",
            "epoch 330/500, loss = 0.0009\n",
            "epoch 340/500, loss = 0.0015\n",
            "epoch 350/500, loss = 0.0006\n",
            "epoch 360/500, loss = 0.0007\n",
            "epoch 370/500, loss = 0.0007\n",
            "epoch 380/500, loss = 0.0008\n",
            "epoch 390/500, loss = 0.0005\n",
            "epoch 400/500, loss = 0.0010\n",
            "epoch 410/500, loss = 0.0005\n",
            "epoch 420/500, loss = 0.0008\n",
            "epoch 430/500, loss = 0.0008\n",
            "epoch 440/500, loss = 0.0010\n",
            "epoch 450/500, loss = 0.0006\n",
            "epoch 460/500, loss = 0.0006\n",
            "epoch 470/500, loss = 0.0007\n",
            "epoch 480/500, loss = 0.0007\n",
            "epoch 490/500, loss = 0.0003\n",
            "epoch 500/500, loss = 0.0005\n",
            "final loss, loss = 0.0005\n"
          ]
        }
      ]
    },
    {
      "cell_type": "markdown",
      "source": [
        "### Lets take a look at our training loss with time during model training. Gradual decrease with time indicating model error decreases as it trains more and more!"
      ],
      "metadata": {
        "id": "jdAq0JFRHJOH"
      }
    },
    {
      "cell_type": "code",
      "source": [
        "plt.figure(figsize=(20,10))\n",
        "plt.plot(list(range(0,500,10)),loss_list, color='green',marker = 'o')\n",
        "plt.ylabel('Loss')\n",
        "plt.xlabel(\"Epoch\")\n",
        "plt.title(\"Training Loss vs Epochs\")\n",
        "plt.show()"
      ],
      "metadata": {
        "colab": {
          "base_uri": "https://localhost:8080/",
          "height": 530
        },
        "id": "5REPQjA9DmBF",
        "outputId": "f2f45e1d-db21-40e1-e63d-669240c4af2d"
      },
      "execution_count": 265,
      "outputs": [
        {
          "output_type": "display_data",
          "data": {
            "text/plain": [
              "<Figure size 1440x720 with 1 Axes>"
            ],
            "image/png": "[encoded data removed]"
          },
          "metadata": {
            "needs_background": "light"
          }
        }
      ]
    },
    {
      "cell_type": "code",
      "source": [
        "data = {\n",
        "    \"model_state\": model.state_dict(),\n",
        "    \"input_size\": input_size,\n",
        "    \"output_size\": output_size,\n",
        "    \"hidden_size\": hidden_size,\n",
        "    \"all_words\": all_words,\n",
        "    \"tags\": all_tags\n",
        "}"
      ],
      "metadata": {
        "id": "k7aIIdO2GIfy"
      },
      "execution_count": 266,
      "outputs": []
    },
    {
      "cell_type": "markdown",
      "source": [
        "### If we were working with multiple .py files and want to utilize our model elsewhere, this is how you would save it! But we dont need it since we are using the handy dandy Jupyter."
      ],
      "metadata": {
        "id": "Jk-Rf8D6ktRm"
      }
    },
    {
      "cell_type": "code",
      "source": [
        "FILE = \"data.pth\" #serialize file and save to a pickeled file\n",
        "torch.save(data,FILE) #dont think I need this step.  "
      ],
      "metadata": {
        "id": "YmK2KXHm_6PN"
      },
      "execution_count": 283,
      "outputs": []
    },
    {
      "cell_type": "markdown",
      "source": [
        "## 5) Lets Look at our model metrics!"
      ],
      "metadata": {
        "id": "GvJdEVaQM2Wl"
      }
    },
    {
      "cell_type": "code",
      "source": [
        "test_data = torch.from_numpy(x_test)\n",
        "output = model(test_data)\n",
        "_, predicted = torch.max(output, 1)\n",
        "y_pred = predicted.numpy()\n",
        "y_test\n",
        "\n",
        "print(f\"On our testing data, we get an accuracy score of {accuracy_score(y_test,y_pred)*100:.2f}%\")\n",
        "print(f\"On our testing data, we get an f1 score of {f1_score(y_test,y_pred,average='weighted'):.2f}\")"
      ],
      "metadata": {
        "colab": {
          "base_uri": "https://localhost:8080/"
        },
        "id": "Xek-h6PHX0dy",
        "outputId": "2093791f-bf0c-41f9-8d45-47a3c21fa036"
      },
      "execution_count": 282,
      "outputs": [
        {
          "output_type": "stream",
          "name": "stdout",
          "text": [
            "On our testing data, we get an accuracy score of 83.33%\n",
            "On our testing data, we get an f1 score of 0.83\n"
          ]
        }
      ]
    },
    {
      "cell_type": "markdown",
      "source": [
        "#### Note that our metric reliability would be improved if we had a much larger data set, since I wrote the json file by hand, the number of training examples may be limited. This is, however, a good representation of the model performing very well in addition to the decreasing training loss above."
      ],
      "metadata": {
        "id": "1Ebd2GoGjzSx"
      }
    },
    {
      "cell_type": "markdown",
      "source": [
        "## Final step is to implement the chatbot"
      ],
      "metadata": {
        "id": "6hoICKLQMqdX"
      }
    },
    {
      "cell_type": "code",
      "source": [
        "model.load_state_dict(data['model_state'])\n",
        "model.eval()"
      ],
      "metadata": {
        "colab": {
          "base_uri": "https://localhost:8080/"
        },
        "id": "OGm6DjwO_9L-",
        "outputId": "ee9c132e-cebb-4eed-8cd4-278c0f3febdd"
      },
      "execution_count": 217,
      "outputs": [
        {
          "output_type": "execute_result",
          "data": {
            "text/plain": [
              "NeuralNet(\n",
              "  (l1): Linear(in_features=52, out_features=8, bias=True)\n",
              "  (l2): Linear(in_features=8, out_features=8, bias=True)\n",
              "  (l3): Linear(in_features=8, out_features=6, bias=True)\n",
              "  (relu): ReLU()\n",
              ")"
            ]
          },
          "metadata": {},
          "execution_count": 217
        }
      ]
    },
    {
      "cell_type": "markdown",
      "source": [
        "#### I decide to create a bunch of potential bot names so that they are randomized everytime the program is run. This is to simulate the feeling of having the customer feel like they are talking to actual employees. I feel like it is more sentimental to the customer."
      ],
      "metadata": {
        "id": "n5MreH7glC27"
      }
    },
    {
      "cell_type": "code",
      "source": [
        "bot_names = [\"Randy\",\"Samantha\",\"Joe\",\"Bella\"]\n",
        "bot_name = random.choice(bot_names)\n"
      ],
      "metadata": {
        "id": "yNAvMEmYBEhK"
      },
      "execution_count": 218,
      "outputs": []
    },
    {
      "cell_type": "code",
      "source": [
        "#The main loop that prompts the user, and interacts with them.\n",
        "print(\"Hello, how can I help? (type 'quit' to exit)\")\n",
        "\n",
        "while True:\n",
        "   sentence = input(\"You: \")\n",
        "   if sentence == \"quit\":\n",
        "     break\n",
        "\n",
        "   sentence = tokenize(sentence)\n",
        "   x = bag_of_words(sentence, all_words)\n",
        "   x = x.reshape(1,x.shape[0]) #our model expects this shape\n",
        "   x = torch.from_numpy(x) #convert to a torch tensor\n",
        "\n",
        "   output = model(x)\n",
        "   _, predicted = torch.max(output,dim=1)\n",
        "   tag = all_tags[predicted.item()]\n",
        "\n",
        "   \n",
        "   prob = torch.softmax(output,dim=1)\n",
        "   prob_actual = prob[0][predicted.item()]\n",
        "\n",
        "   if prob_actual.item() > 0.75:\n",
        "     for intent in intents['intents']:\n",
        "       if tag == intent['tag']:\n",
        "         print(f\"{bot_name}: {random.choice(intent['responses'])}\")\n",
        "   else:\n",
        "     print(f\"{bot_name}: I do not understand, can you reiterate?\")"
      ],
      "metadata": {
        "colab": {
          "base_uri": "https://localhost:8080/"
        },
        "id": "0Fx7xB64QP_H",
        "outputId": "db722fc0-4b92-49b1-8ea6-c47cacce9491"
      },
      "execution_count": 290,
      "outputs": [
        {
          "name": "stdout",
          "output_type": "stream",
          "text": [
            "Hello, how can I help? (type 'quit' to exit)\n",
            "You: Hello\n",
            "Bella: Hi there, what can I do for you?\n",
            "You: What products do you guys have?\n",
            "Bella: We sell fitness products\n",
            "You: Do you take cash?\n",
            "Bella: We accept VISA, Mastercard and Paypal\n",
            "You: How long does shipping need?\n",
            "Bella: Shipping takes 2-4 business days\n",
            "You: thanks!\n",
            "Bella: No worries\n",
            "You: Remind me of your products?\n",
            "Bella: Anything fitness related, we got it!\n",
            "You: goodbye!\n",
            "Bella: Have a great day\n",
            "You: quit\n"
          ]
        }
      ]
    }
  ]
}